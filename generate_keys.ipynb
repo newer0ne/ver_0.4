{
 "cells": [
  {
   "cell_type": "code",
   "execution_count": 1,
   "metadata": {},
   "outputs": [
    {
     "data": {
      "text/plain": [
       "['$2b$12$fPfWg6rBQ3Hd04qpeIuL/OrqmlXe/3DX8LcVmo0D6M8RT9NyNyNji',\n",
       " '$2b$12$pvdJ/DljsWjWMJzxVomQfOEh28h2wC3tAhnt3760yKjrAGzjpKpX.']"
      ]
     },
     "execution_count": 1,
     "metadata": {},
     "output_type": "execute_result"
    }
   ],
   "source": [
    "import pickle\n",
    "from pathlib import Path\n",
    "\n",
    "import streamlit_authenticator as stauth\n",
    "\n",
    "names = [\"Peter Parker\", \"Rebecca Miller\"]\n",
    "usernames = [\"pparker\", \"rmiller\"]\n",
    "passwords = [\"abc123\", \"def456\"]\n",
    "\n",
    "hashed_passwords = stauth.Hasher(passwords).generate()\n",
    "hashed_passwords"
   ]
  },
  {
   "cell_type": "code",
   "execution_count": null,
   "metadata": {},
   "outputs": [],
   "source": [
    "file_path = Path(__file__).parent / \"hashed_pw.pkl\"\n",
    "with file_path.open(\"wb\") as file:\n",
    "    pickle.dump(hashed_passwords, file)"
   ]
  }
 ],
 "metadata": {
  "kernelspec": {
   "display_name": "Python 3",
   "language": "python",
   "name": "python3"
  },
  "language_info": {
   "codemirror_mode": {
    "name": "ipython",
    "version": 3
   },
   "file_extension": ".py",
   "mimetype": "text/x-python",
   "name": "python",
   "nbconvert_exporter": "python",
   "pygments_lexer": "ipython3",
   "version": "3.10.0"
  }
 },
 "nbformat": 4,
 "nbformat_minor": 2
}
